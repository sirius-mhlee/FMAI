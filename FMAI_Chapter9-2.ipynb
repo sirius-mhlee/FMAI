{
 "cells": [
  {
   "cell_type": "code",
   "execution_count": 2,
   "metadata": {},
   "outputs": [
    {
     "name": "stdout",
     "output_type": "stream",
     "text": [
      "Extracting ./data/mnist\\train-images-idx3-ubyte.gz\n",
      "Extracting ./data/mnist\\train-labels-idx1-ubyte.gz\n",
      "Extracting ./data/mnist\\t10k-images-idx3-ubyte.gz\n",
      "Extracting ./data/mnist\\t10k-labels-idx1-ubyte.gz\n"
     ]
    }
   ],
   "source": [
    "import tensorflow as tf\n",
    "from tensorflow.examples.tutorials.mnist import input_data\n",
    "\n",
    "mnist = input_data.read_data_sets(\"./data/mnist\", one_hot = True)"
   ]
  },
  {
   "cell_type": "code",
   "execution_count": 3,
   "metadata": {
    "collapsed": true
   },
   "outputs": [],
   "source": [
    "x_true = tf.placeholder(tf.float32, [None, 28, 28, 1])\n",
    "y_true = tf.placeholder(tf.float32, [None, 10])"
   ]
  },
  {
   "cell_type": "code",
   "execution_count": 4,
   "metadata": {
    "collapsed": true
   },
   "outputs": [],
   "source": [
    "weight_1 = tf.Variable(tf.truncated_normal([3, 3, 1, 32], stddev = 0.01))\n",
    "hidden_1 = tf.nn.conv2d(x_true, weight_1, strides = [1, 1, 1, 1], padding = \"SAME\")\n",
    "hidden_1 = tf.nn.relu(hidden_1)\n",
    "hidden_1 = tf.nn.max_pool(hidden_1, ksize = [1, 2, 2, 1], strides = [1, 2, 2, 1], padding = \"SAME\")\n",
    "hidden_1 = tf.nn.dropout(hidden_1, keep_prob = 0.8)"
   ]
  },
  {
   "cell_type": "code",
   "execution_count": 5,
   "metadata": {
    "collapsed": true
   },
   "outputs": [],
   "source": [
    "weight_2 = tf.Variable(tf.truncated_normal([3, 3, 32, 64], stddev = 0.01))\n",
    "hidden_2 = tf.nn.conv2d(hidden_1, weight_2, strides = [1, 1, 1, 1], padding = \"SAME\")\n",
    "hidden_2 = tf.nn.relu(hidden_2)\n",
    "hidden_2 = tf.nn.max_pool(hidden_2, ksize = [1, 2, 2, 1], strides = [1, 2, 2, 1], padding = \"SAME\")"
   ]
  },
  {
   "cell_type": "code",
   "execution_count": 6,
   "metadata": {
    "collapsed": true
   },
   "outputs": [],
   "source": [
    "hidden_2 = tf.reshape(hidden_2, [-1, 7 * 7 * 64])\n",
    "hidden_2 = tf.nn.dropout(hidden_2, keep_prob = 0.8)"
   ]
  },
  {
   "cell_type": "code",
   "execution_count": 7,
   "metadata": {
    "collapsed": true
   },
   "outputs": [],
   "source": [
    "weight_3 = tf.Variable(tf.truncated_normal([7 * 7 * 64, 256], stddev = 0.01))\n",
    "fc_1 = tf.matmul(hidden_2, weight_3)\n",
    "fc_1 = tf.nn.relu(fc_1)\n",
    "fc_1 = tf.nn.dropout(fc_1, 0.5)"
   ]
  },
  {
   "cell_type": "code",
   "execution_count": 8,
   "metadata": {
    "collapsed": true
   },
   "outputs": [],
   "source": [
    "weight_4 = tf.Variable(tf.truncated_normal([256, 10], stddev = 0.01))\n",
    "y_pred = tf.matmul(fc_1, weight_4)"
   ]
  },
  {
   "cell_type": "code",
   "execution_count": 9,
   "metadata": {
    "collapsed": true
   },
   "outputs": [],
   "source": [
    "cost = tf.nn.softmax_cross_entropy_with_logits(logits = y_pred, labels = y_true)\n",
    "cost = tf.reduce_mean(cost)\n",
    "optimizer = tf.train.AdamOptimizer(learning_rate = 0.01)\n",
    "optimizer = optimizer.minimize(cost)"
   ]
  },
  {
   "cell_type": "code",
   "execution_count": 11,
   "metadata": {},
   "outputs": [],
   "source": [
    "sess = tf.Session()\n",
    "sess.run(tf.global_variables_initializer())\n",
    "\n",
    "batch_size = 100\n",
    "num_batch = int(mnist.train.num_examples / batch_size)"
   ]
  },
  {
   "cell_type": "code",
   "execution_count": 12,
   "metadata": {},
   "outputs": [
    {
     "name": "stdout",
     "output_type": "stream",
     "text": [
      "Epoch : 1, Cost : 0.23439359572800722\n",
      "Epoch : 2, Cost : 0.1320878180116415\n",
      "Epoch : 3, Cost : 0.12076560272750529\n",
      "Epoch : 4, Cost : 0.11472843578000638\n",
      "Epoch : 5, Cost : 0.11035569337111982\n",
      "Epoch : 6, Cost : 0.1038506305039945\n",
      "Epoch : 7, Cost : 0.1074991184938699\n",
      "Epoch : 8, Cost : 0.10531274641271342\n",
      "Epoch : 9, Cost : 0.11388580821369859\n",
      "Epoch : 10, Cost : 0.10443375584796409\n",
      "Done\n"
     ]
    }
   ],
   "source": [
    "for epoch in range(10):\n",
    "    total_cost = 0\n",
    "    for i in range(num_batch):\n",
    "        batch_xs, batch_ys = mnist.train.next_batch(batch_size)\n",
    "        batch_xs = batch_xs.reshape(-1, 28, 28, 1)\n",
    "        _, cost_value = sess.run([optimizer, cost], {x_true : batch_xs, y_true : batch_ys})\n",
    "        total_cost += cost_value\n",
    "    print(\"Epoch : {0}, Cost : {1}\".format(epoch + 1, total_cost / num_batch))\n",
    "print(\"Done\")"
   ]
  },
  {
   "cell_type": "code",
   "execution_count": 14,
   "metadata": {},
   "outputs": [
    {
     "name": "stdout",
     "output_type": "stream",
     "text": [
      "Accuracy : 0.9699000120162964\n"
     ]
    }
   ],
   "source": [
    "correct_prediction = tf.equal(tf.argmax(y_pred, 1), tf.argmax(y_true, 1))\n",
    "accuracy = tf.reduce_mean(tf.cast(correct_prediction, tf.float32))\n",
    "print(\"Accuracy : {0}\".format(sess.run(accuracy, {x_true : mnist.test.images.reshape(-1, 28, 28, 1), y_true : mnist.test.labels})))"
   ]
  },
  {
   "cell_type": "code",
   "execution_count": null,
   "metadata": {
    "collapsed": true
   },
   "outputs": [],
   "source": []
  }
 ],
 "metadata": {
  "kernelspec": {
   "display_name": "Python 3",
   "language": "python",
   "name": "python3"
  },
  "language_info": {
   "codemirror_mode": {
    "name": "ipython",
    "version": 3
   },
   "file_extension": ".py",
   "mimetype": "text/x-python",
   "name": "python",
   "nbconvert_exporter": "python",
   "pygments_lexer": "ipython3",
   "version": "3.6.1"
  }
 },
 "nbformat": 4,
 "nbformat_minor": 2
}
