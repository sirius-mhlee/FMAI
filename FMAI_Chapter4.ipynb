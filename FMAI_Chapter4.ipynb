{
 "cells": [
  {
   "cell_type": "code",
   "execution_count": 1,
   "metadata": {
    "collapsed": true
   },
   "outputs": [],
   "source": [
    "import tensorflow as tf\n",
    "import matplotlib.pyplot as plt"
   ]
  },
  {
   "cell_type": "code",
   "execution_count": 3,
   "metadata": {},
   "outputs": [
    {
     "data": {
      "text/plain": [
       "'1.2.1'"
      ]
     },
     "execution_count": 3,
     "metadata": {},
     "output_type": "execute_result"
    }
   ],
   "source": [
    "tf.__version__"
   ]
  },
  {
   "cell_type": "code",
   "execution_count": 4,
   "metadata": {
    "collapsed": true
   },
   "outputs": [],
   "source": [
    "learning_rate = 0.01\n",
    "num_epochs = 1000\n",
    "step_display = 50"
   ]
  },
  {
   "cell_type": "code",
   "execution_count": 5,
   "metadata": {
    "collapsed": true
   },
   "outputs": [],
   "source": [
    "x = [2.7, 4.8, 9.3, 13.4, 24.8, 31.3, 48.5, 53.0, 68.1, 74.2, 88.6, 94.5]\n",
    "y = [7.0, 28.8, 22.8, 67.1, 48.8, 100.2, 140.0, 190.2, 215.2, 285.6, 260.3, 251.1]"
   ]
  },
  {
   "cell_type": "code",
   "execution_count": 6,
   "metadata": {
    "collapsed": true
   },
   "outputs": [],
   "source": [
    "assert len(x) == len(y)"
   ]
  },
  {
   "cell_type": "code",
   "execution_count": 7,
   "metadata": {},
   "outputs": [
    {
     "data": {
      "text/plain": [
       "12"
      ]
     },
     "execution_count": 7,
     "metadata": {},
     "output_type": "execute_result"
    }
   ],
   "source": [
    "len(x)"
   ]
  },
  {
   "cell_type": "code",
   "execution_count": 9,
   "metadata": {},
   "outputs": [],
   "source": [
    "weight = tf.Variable(tf.random_uniform([1], -1.0, 1.0), name = 'weight')\n",
    "bias = tf.Variable(tf.random_uniform([1], -1.0, 1.0), name = 'bias')"
   ]
  },
  {
   "cell_type": "code",
   "execution_count": 10,
   "metadata": {
    "collapsed": true
   },
   "outputs": [],
   "source": [
    "x_true = tf.placeholder(dtype = tf.float32, name = 'x_true')\n",
    "y_true = tf.placeholder(dtype = tf.float32, name = 'y_true')"
   ]
  },
  {
   "cell_type": "code",
   "execution_count": 12,
   "metadata": {},
   "outputs": [],
   "source": [
    "y_pred = tf.add(tf.multiply(weight, x_true), bias)\n",
    "cost = tf.reduce_mean(tf.square(y_pred - y_true))"
   ]
  },
  {
   "cell_type": "code",
   "execution_count": 15,
   "metadata": {
    "collapsed": true
   },
   "outputs": [],
   "source": [
    "optimizer = tf.train.AdamOptimizer(learning_rate).minimize(cost)\n",
    "init = tf.global_variables_initializer()\n",
    "sess = tf.Session()"
   ]
  },
  {
   "cell_type": "code",
   "execution_count": 16,
   "metadata": {
    "collapsed": true
   },
   "outputs": [],
   "source": [
    "sess.run(init)"
   ]
  },
  {
   "cell_type": "code",
   "execution_count": 25,
   "metadata": {},
   "outputs": [
    {
     "name": "stdout",
     "output_type": "stream",
     "text": [
      "Epoch: 50, cost: 10009.8037109375, weight: [ 1.2798605], bias: [ 0.20350811]\n",
      "Epoch: 100, cost: 6043.37841796875, weight: [ 1.70905638], bias: [ 0.63420111]\n",
      "Epoch: 150, cost: 3537.317626953125, weight: [ 2.07100415], bias: [ 0.99943089]\n",
      "Epoch: 200, cost: 2070.820556640625, weight: [ 2.36423016], bias: [ 1.29815423]\n",
      "Epoch: 250, cost: 1282.82080078125, weight: [ 2.59119964], bias: [ 1.53315997]\n",
      "Epoch: 300, cost: 896.6818237304688, weight: [ 2.75832367], bias: [ 1.71100605]\n",
      "Epoch: 350, cost: 724.861083984375, weight: [ 2.8750689], bias: [ 1.84110904]\n",
      "Epoch: 400, cost: 655.5634155273438, weight: [ 2.95234013], bias: [ 1.93417323]\n",
      "Epoch: 450, cost: 630.2241821289062, weight: [ 3.00077629], bias: [ 2.00056362]\n",
      "Epoch: 500, cost: 621.7988891601562, weight: [ 3.02951455], bias: [ 2.04913855]\n",
      "Epoch: 550, cost: 619.2230834960938, weight: [ 3.04562187], bias: [ 2.08672714]\n",
      "Epoch: 600, cost: 618.4668579101562, weight: [ 3.05410528], bias: [ 2.11815763]\n",
      "Epoch: 650, cost: 618.2196044921875, weight: [ 3.05824471], bias: [ 2.14658022]\n",
      "Epoch: 700, cost: 618.0985107421875, weight: [ 3.06004286], bias: [ 2.17391062]\n",
      "Epoch: 750, cost: 618.0035400390625, weight: [ 3.06064343], bias: [ 2.20123601]\n",
      "Epoch: 800, cost: 617.9116821289062, weight: [ 3.06066203], bias: [ 2.22913122]\n",
      "Epoch: 850, cost: 617.8178100585938, weight: [ 3.06040645], bias: [ 2.25787854]\n",
      "Epoch: 900, cost: 617.7210083007812, weight: [ 3.06002498], bias: [ 2.28760505]\n",
      "Epoch: 950, cost: 617.621337890625, weight: [ 3.05958271], bias: [ 2.31835914]\n",
      "Epoch: 1000, cost: 617.5194702148438, weight: [ 3.0591073], bias: [ 2.35015392]\n",
      "done\n"
     ]
    }
   ],
   "source": [
    "for epoch in range(num_epochs) :\n",
    "    _, c = sess.run([optimizer, cost], feed_dict = {x_true : x, y_true : y})\n",
    "    if (epoch + 1) % step_display == 0 :\n",
    "        print('Epoch: {0}, cost: {1}, weight: {2}, bias: {3}'.format(epoch + 1, c, sess.run(weight), sess.run(bias)))\n",
    "print('done')"
   ]
  },
  {
   "cell_type": "code",
   "execution_count": 26,
   "metadata": {},
   "outputs": [
    {
     "name": "stdout",
     "output_type": "stream",
     "text": [
      "result cost: 617.5194702148438\n",
      "result weight: [ 3.0591073]\n",
      "result bias: [ 2.35015392]\n"
     ]
    }
   ],
   "source": [
    "training_cost = sess.run(cost, feed_dict = {x_true : x, y_true : y})\n",
    "print('result cost: {}'.format(c))\n",
    "print('result weight: {}'.format(sess.run(weight)))\n",
    "print('result bias: {}'.format(sess.run(bias)))"
   ]
  },
  {
   "cell_type": "code",
   "execution_count": 27,
   "metadata": {},
   "outputs": [
    {
     "data": {
      "image/png": "[encoded data removed]",
      "text/plain": [
       "<matplotlib.figure.Figure at 0x224b3abb940>"
      ]
     },
     "metadata": {},
     "output_type": "display_data"
    }
   ],
   "source": [
    "plt.plot(x, y, 'ro', label = 'Original data')\n",
    "plt.plot(x, sess.run(weight) * x + sess.run(bias), label = 'Optimized line')\n",
    "plt.legend()\n",
    "plt.show()"
   ]
  },
  {
   "cell_type": "code",
   "execution_count": 28,
   "metadata": {
    "collapsed": true
   },
   "outputs": [],
   "source": [
    "sess.close()"
   ]
  },
  {
   "cell_type": "code",
   "execution_count": null,
   "metadata": {
    "collapsed": true
   },
   "outputs": [],
   "source": []
  }
 ],
 "metadata": {
  "kernelspec": {
   "display_name": "Python 3",
   "language": "python",
   "name": "python3"
  },
  "language_info": {
   "codemirror_mode": {
    "name": "ipython",
    "version": 3
   },
   "file_extension": ".py",
   "mimetype": "text/x-python",
   "name": "python",
   "nbconvert_exporter": "python",
   "pygments_lexer": "ipython3",
   "version": "3.6.1"
  }
 },
 "nbformat": 4,
 "nbformat_minor": 2
}
